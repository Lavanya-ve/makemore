{
 "cells": [
  {
   "cell_type": "code",
   "execution_count": 42,
   "id": "7ba0d424-8c05-4a2e-9645-5c5a0934f978",
   "metadata": {},
   "outputs": [],
   "source": [
    "words = open('names.txt', 'r').read().splitlines()"
   ]
  },
  {
   "cell_type": "code",
   "execution_count": 43,
   "id": "e6626ea3-1c35-49f1-9207-261a65a19ca9",
   "metadata": {},
   "outputs": [],
   "source": [
    "#Define the character set \n",
    "word = sorted(list(set(''.join(words))))\n",
    "\n",
    "#Using the word which is a sorted list, let's map each character to a number\n",
    "stoi = {s:i+1 for i,s in enumerate(word)}\n",
    "stoi['.'] = 0\n",
    "\n",
    "#Now the vice versa that is mapping a integer to the letter\n",
    "itos = {i:s for s, i in stoi.items() }\n",
    "#itos"
   ]
  },
  {
   "cell_type": "code",
   "execution_count": 44,
   "id": "68e2d828-6d44-41d4-a73e-29e7bd7da153",
   "metadata": {},
   "outputs": [
    {
     "name": "stdout",
     "output_type": "stream",
     "text": [
      "torch.Size([25626, 3])\n",
      "torch.Size([25626])\n"
     ]
    }
   ],
   "source": [
    "#Dataset creation\n",
    "import torch\n",
    "block_size = 3 #This is the context length, it specifies the number of words/characters you are giving to the model\n",
    "\n",
    "def build_dataset():\n",
    "    X = []\n",
    "    Y = []\n",
    "\n",
    "    for w in words:\n",
    "        content = [0] * block_size\n",
    "        for ch in w + '.':\n",
    "            inx = stoi[ch]\n",
    "            X.append(content)\n",
    "            Y.append(inx)\n",
    "            content = content[1:] + [inx]\n",
    "\n",
    "    X = torch.tensor(X)\n",
    "    Y = torch.tensor(Y)\n",
    "    return X,Y\n",
    "\n",
    "n1 = int(0.8 * len(words))\n",
    "n2 = int(0.9 * len(words))\n",
    "import random\n",
    "random.seed(42)\n",
    "random.shuffle(words)\n",
    "X, Y = build_dataset()\n",
    "Xtr, Ytr = X[:n1], Y[:n1]\n",
    "Xdev, Ydev = X[n1: n2], Y[n1: n2]\n",
    "Xval, Yval = X[n2:], Y[n2:]\n",
    "\n",
    "print(Xtr.shape)\n",
    "print(Ytr.shape)\n",
    "    "
   ]
  },
  {
   "cell_type": "code",
   "execution_count": 45,
   "id": "c5087ddc-0e92-4f6b-aa54-aa63e618bb64",
   "metadata": {},
   "outputs": [
    {
     "name": "stdout",
     "output_type": "stream",
     "text": [
      "tensor([[0.0301, 0.1583, 0.9067,  ..., 0.5022, 0.7398, 0.7591],\n",
      "        [0.0301, 0.1583, 0.9067,  ..., 0.3247, 0.2461, 0.2333],\n",
      "        [0.0301, 0.1583, 0.9067,  ..., 0.3738, 0.8638, 0.2045],\n",
      "        ...,\n",
      "        [0.9555, 0.2670, 0.9635,  ..., 0.4045, 0.8248, 0.7732],\n",
      "        [0.3418, 0.2736, 0.5181,  ..., 0.3247, 0.2461, 0.2333],\n",
      "        [0.3502, 0.1404, 0.3662,  ..., 0.3120, 0.4669, 0.4624]])\n"
     ]
    }
   ],
   "source": [
    "#C here is the look up table (also called the embeddings table)\n",
    "#Each row of C has the embeddings required for a character\n",
    "C = torch.rand((27, 6))\n",
    "#Embed each character in X from C\n",
    "emb = C[Xtr]\n",
    "#Let's check the shape of emb\n",
    "emb.shape\n",
    "#emb is a 3d vector. Let's convert it into 2d of 27 x 6 where each row is the embedding of the 3 characters in X\n",
    "it = emb.view(emb.shape[0], 18)\n",
    "print(it)"
   ]
  },
  {
   "cell_type": "code",
   "execution_count": 46,
   "id": "1687f964-5662-4fef-8289-edfbdf77f9de",
   "metadata": {},
   "outputs": [
    {
     "data": {
      "text/plain": [
       "torch.Size([25626, 200])"
      ]
     },
     "execution_count": 46,
     "metadata": {},
     "output_type": "execute_result"
    }
   ],
   "source": [
    "#Now the number of training examples x 6 inputs are given as a weighted sum to the hidden layer with 100 neurons\n",
    "W1 = torch.randn((18, 200))\n",
    "b1 = torch.randn(200)\n",
    "\n",
    "#The weighted sums are activated by tanh\n",
    "h = torch.tanh(it @ W1 + b1)\n",
    "h.shape"
   ]
  },
  {
   "cell_type": "code",
   "execution_count": 47,
   "id": "29f35f9e-bd6a-4849-8c72-bff8d1087ea0",
   "metadata": {},
   "outputs": [],
   "source": [
    "#The parameters of the hidden layer to the output layer\n",
    "W2 = torch.randn(200, 27)\n",
    "b2 = torch.randn(27)\n",
    "\n",
    "#The output of the last layer\n",
    "y = h @ W2 + b2"
   ]
  },
  {
   "cell_type": "code",
   "execution_count": 48,
   "id": "97194cdc-e245-4327-a165-b47919b60b7f",
   "metadata": {},
   "outputs": [
    {
     "data": {
      "text/plain": [
       "tensor(24.0209)"
      ]
     },
     "execution_count": 48,
     "metadata": {},
     "output_type": "execute_result"
    }
   ],
   "source": [
    "#using the y we got from the neural network and the actual y we will calculate the loss\n",
    "loss = torch.nn.functional.cross_entropy(y, Ytr)\n",
    "loss"
   ]
  },
  {
   "cell_type": "code",
   "execution_count": 49,
   "id": "42429c26-332f-4627-8d42-1258bed52bad",
   "metadata": {},
   "outputs": [
    {
     "data": {
      "text/plain": [
       "tensor([ 91035, 153337,  46270, 154526, 164606,  77762,   9271,   2387,  22859,\n",
       "        131215,  70777, 161403, 222269,  84293, 146951, 141718,   5186, 175837,\n",
       "        226281, 108110, 202319, 143982, 131438,  86076, 136173,    279, 142368,\n",
       "         89236, 208830,  26930, 208784, 157462])"
      ]
     },
     "execution_count": 49,
     "metadata": {},
     "output_type": "execute_result"
    }
   ],
   "source": [
    "#Let's try to segment the data to minibatches\n",
    "m = torch.randint(0, X.shape[0], (32,))\n",
    "m"
   ]
  },
  {
   "cell_type": "code",
   "execution_count": 56,
   "id": "e7bf40df-2ee7-4dcc-b10d-81fa55e4c2b6",
   "metadata": {},
   "outputs": [
    {
     "name": "stdout",
     "output_type": "stream",
     "text": [
      "2.1890413761138916\n"
     ]
    }
   ],
   "source": [
    "#On combining the whole code, we need to do a forward pass, find the loss, do a backward pass, update the values and repeat the steps again\n",
    "#Until the loss does not minimise\n",
    "parameters = [C, W1, W2, b1, b2]\n",
    "for p in parameters:\n",
    "    p.requires_grad = True\n",
    "    \n",
    "for _ in range(1000):\n",
    "\n",
    "    #Minibatch of 32\n",
    "    inx = torch.randint(0, Xtr.shape[0], (32,))\n",
    "    \n",
    "    #forward pass\n",
    "    emb = C[Xtr[inx]]\n",
    "    h= torch.tanh(emb.view(inx.shape[0], 18) @ W1 + b1)\n",
    "    y = h @ W2 + b2\n",
    "\n",
    "    #Calculate the loss\n",
    "    loss = torch.nn.functional.cross_entropy(y, Ytr[inx])\n",
    "    #print(loss.item())\n",
    "\n",
    "    #Back pass\n",
    "    for p in parameters:\n",
    "        p.grad = None\n",
    "    loss.backward()\n",
    "\n",
    "    #Update my parameters\n",
    "    for p in parameters:\n",
    "        p.data += -0.01 * p.grad\n",
    "\n",
    "print(loss.item())"
   ]
  },
  {
   "cell_type": "code",
   "execution_count": 57,
   "id": "0073ec43-f109-4dd0-9754-fdbcc27675dd",
   "metadata": {},
   "outputs": [
    {
     "data": {
      "text/plain": [
       "2.327741861343384"
      ]
     },
     "execution_count": 57,
     "metadata": {},
     "output_type": "execute_result"
    }
   ],
   "source": [
    "#Evaluate on dev data\n",
    "emb = C[Xdev]\n",
    "h= torch.tanh(emb.view(Xdev.shape[0], 18) @ W1 + b1)\n",
    "y = h @ W2 + b2\n",
    "loss = torch.nn.functional.cross_entropy(y, Ydev)\n",
    "loss.item()"
   ]
  },
  {
   "cell_type": "code",
   "execution_count": 60,
   "id": "ab3b6bce-56f7-4b31-9332-24dacf240a6f",
   "metadata": {},
   "outputs": [
    {
     "name": "stdout",
     "output_type": "stream",
     "text": [
      "kahattin.\n",
      "cretth.\n",
      "marie.\n",
      "aliah.\n",
      "cellinanmen.\n",
      "rice.\n",
      "wenaion.\n",
      "breatlee.\n",
      "shawyna.\n",
      "grah.\n",
      "mrin.\n",
      "greng.\n",
      "grewye.\n",
      "korla.\n",
      "bya.\n",
      "jaka.\n",
      "thrist.\n",
      "esvayah.\n",
      "brries.\n",
      "gen.\n"
     ]
    }
   ],
   "source": [
    "#Sampling from the data\n",
    "\n",
    "for i in range(20):\n",
    "    content = [0] * block_size\n",
    "    #print(content)\n",
    "    out = []\n",
    "    while True:\n",
    "        emb = C[torch.tensor(content)]\n",
    "        #print(emb)\n",
    "        h = torch.tanh(emb.view(1, -1) @ W1 + b1)\n",
    "        y = h @ W2 + b2\n",
    "        logits = torch.nn.functional.softmax(y, dim=1)\n",
    "        inx = torch.multinomial(logits, num_samples=1).item()\n",
    "        content = content[1:] + [inx]\n",
    "        out.append(inx)\n",
    "        if inx == 0:\n",
    "            break\n",
    "\n",
    "    print(''.join(itos[i] for i in out))\n",
    "    "
   ]
  },
  {
   "cell_type": "code",
   "execution_count": null,
   "id": "8b15d56b-58cf-41bb-8e87-d1c5ce8d3b1a",
   "metadata": {},
   "outputs": [],
   "source": []
  }
 ],
 "metadata": {
  "kernelspec": {
   "display_name": "Python 3 (ipykernel)",
   "language": "python",
   "name": "python3"
  },
  "language_info": {
   "codemirror_mode": {
    "name": "ipython",
    "version": 3
   },
   "file_extension": ".py",
   "mimetype": "text/x-python",
   "name": "python",
   "nbconvert_exporter": "python",
   "pygments_lexer": "ipython3",
   "version": "3.11.6"
  }
 },
 "nbformat": 4,
 "nbformat_minor": 5
}
