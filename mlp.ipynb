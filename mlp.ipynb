{
 "cells": [
  {
   "cell_type": "code",
   "execution_count": 1,
   "id": "7ba0d424-8c05-4a2e-9645-5c5a0934f978",
   "metadata": {},
   "outputs": [],
   "source": [
    "words = open('names.txt', 'r').read().splitlines()"
   ]
  },
  {
   "cell_type": "code",
   "execution_count": 4,
   "id": "e6626ea3-1c35-49f1-9207-261a65a19ca9",
   "metadata": {},
   "outputs": [],
   "source": [
    "#Define the character set \n",
    "word = sorted(list(set(''.join(words))))\n",
    "\n",
    "#Using the word which is a sorted list, let's map each character to a number\n",
    "stoi = {s:i+1 for i,s in enumerate(word)}\n",
    "stoi['.'] = 0\n",
    "\n",
    "#Now the vice versa that is mapping a integer to the letter\n",
    "itos = {i:s for s, i in stoi.items() }\n",
    "#itos"
   ]
  },
  {
   "cell_type": "code",
   "execution_count": 5,
   "id": "68e2d828-6d44-41d4-a73e-29e7bd7da153",
   "metadata": {},
   "outputs": [
    {
     "name": "stdout",
     "output_type": "stream",
     "text": [
      "torch.Size([25626, 3])\n",
      "torch.Size([25626])\n"
     ]
    }
   ],
   "source": [
    "#Dataset creation\n",
    "import torch\n",
    "block_size = 3 #This is the context length, it specifies the number of words/characters you are giving to the model\n",
    "\n",
    "def build_dataset():\n",
    "    X = []\n",
    "    Y = []\n",
    "\n",
    "    for w in words:\n",
    "        content = [0] * block_size\n",
    "        for ch in w + '.':\n",
    "            inx = stoi[ch]\n",
    "            X.append(content)\n",
    "            Y.append(inx)\n",
    "            content = content[1:] + [inx]\n",
    "\n",
    "    X = torch.tensor(X)\n",
    "    Y = torch.tensor(Y)\n",
    "    return X,Y\n",
    "\n",
    "n1 = int(0.8 * len(words))\n",
    "n2 = int(0.9 * len(words))\n",
    "import random\n",
    "random.seed(42)\n",
    "random.shuffle(words)\n",
    "X, Y = build_dataset()\n",
    "Xtr, Ytr = X[:n1], Y[:n1]\n",
    "Xdev, Ydev = X[n1: n2], Y[n1: n2]\n",
    "Xval, Yval = X[n2:], Y[n2:]\n",
    "\n",
    "print(Xtr.shape)\n",
    "print(Ytr.shape)\n",
    "    "
   ]
  },
  {
   "cell_type": "code",
   "execution_count": 6,
   "id": "c5087ddc-0e92-4f6b-aa54-aa63e618bb64",
   "metadata": {},
   "outputs": [
    {
     "name": "stdout",
     "output_type": "stream",
     "text": [
      "tensor([[0.1264, 0.8536, 0.1264, 0.8536, 0.1264, 0.8536],\n",
      "        [0.1264, 0.8536, 0.1264, 0.8536, 0.9506, 0.6642],\n",
      "        [0.1264, 0.8536, 0.9506, 0.6642, 0.4870, 0.6013],\n",
      "        ...,\n",
      "        [0.1264, 0.8536, 0.1264, 0.8536, 0.1264, 0.8536],\n",
      "        [0.1264, 0.8536, 0.1264, 0.8536, 0.9506, 0.6642],\n",
      "        [0.1264, 0.8536, 0.9506, 0.6642, 0.6848, 0.3773]])\n"
     ]
    }
   ],
   "source": [
    "#C here is the look up table (also called the embeddings table)\n",
    "#Each row of C has the embeddings required for a character\n",
    "C = torch.rand((27, 2))\n",
    "#Embed each character in X from C\n",
    "emb = C[Xtr]\n",
    "#Let's check the shape of emb\n",
    "emb.shape\n",
    "#emb is a 3d vector. Let's convert it into 2d of 27 x 6 where each row is the embedding of the 3 characters in X\n",
    "it = emb.view(emb.shape[0], 6)\n",
    "print(it)"
   ]
  },
  {
   "cell_type": "code",
   "execution_count": 7,
   "id": "1687f964-5662-4fef-8289-edfbdf77f9de",
   "metadata": {},
   "outputs": [
    {
     "data": {
      "text/plain": [
       "torch.Size([25626, 100])"
      ]
     },
     "execution_count": 7,
     "metadata": {},
     "output_type": "execute_result"
    }
   ],
   "source": [
    "#Now the number of training examples x 6 inputs are given as a weighted sum to the hidden layer with 100 neurons\n",
    "W1 = torch.randn((6, 100))\n",
    "b1 = torch.randn(100)\n",
    "\n",
    "#The weighted sums are activated by tanh\n",
    "h = torch.tanh(it @ W1 + b1)\n",
    "h.shape"
   ]
  },
  {
   "cell_type": "code",
   "execution_count": 8,
   "id": "29f35f9e-bd6a-4849-8c72-bff8d1087ea0",
   "metadata": {},
   "outputs": [],
   "source": [
    "#The parameters of the hidden layer to the output layer\n",
    "W2 = torch.randn(100, 27)\n",
    "b2 = torch.randn(27)\n",
    "\n",
    "#The output of the last layer\n",
    "y = h @ W2 + b2"
   ]
  },
  {
   "cell_type": "code",
   "execution_count": 10,
   "id": "97194cdc-e245-4327-a165-b47919b60b7f",
   "metadata": {},
   "outputs": [
    {
     "data": {
      "text/plain": [
       "tensor(14.1075)"
      ]
     },
     "execution_count": 10,
     "metadata": {},
     "output_type": "execute_result"
    }
   ],
   "source": [
    "#using the y we got from the neural network and the actual y we will calculate the loss\n",
    "loss = torch.nn.functional.cross_entropy(y, Ytr)\n",
    "loss"
   ]
  },
  {
   "cell_type": "code",
   "execution_count": 11,
   "id": "42429c26-332f-4627-8d42-1258bed52bad",
   "metadata": {},
   "outputs": [
    {
     "data": {
      "text/plain": [
       "tensor([ 54187, 178316, 140304,   7763, 151416, 199851, 211720,  41983, 131684,\n",
       "        129710, 183766, 185746,  95338,  56675,  43583, 222632,  35070,  95947,\n",
       "          5739,  41217, 136666,  30955,    974,  11952,  90100,  91723,   8711,\n",
       "         19589,  20827, 199652,  89079,  11618])"
      ]
     },
     "execution_count": 11,
     "metadata": {},
     "output_type": "execute_result"
    }
   ],
   "source": [
    "#Let's try to segment the data to minibatches\n",
    "m = torch.randint(0, X.shape[0], (32,))\n",
    "m"
   ]
  },
  {
   "cell_type": "code",
   "execution_count": 27,
   "id": "e7bf40df-2ee7-4dcc-b10d-81fa55e4c2b6",
   "metadata": {},
   "outputs": [
    {
     "name": "stdout",
     "output_type": "stream",
     "text": [
      "2.1535000801086426\n"
     ]
    }
   ],
   "source": [
    "#On combining the whole code, we need to do a forward pass, find the loss, do a backward pass, update the values and repeat the steps again\n",
    "#Until the loss does not minimise\n",
    "parameters = [C, W1, W2, b1, b2]\n",
    "for p in parameters:\n",
    "    p.requires_grad = True\n",
    "    \n",
    "for _ in range(100):\n",
    "\n",
    "    #Minibatch of 32\n",
    "    inx = torch.randint(0, Xtr.shape[0], (32,))\n",
    "    \n",
    "    #forward pass\n",
    "    emb = C[Xtr[inx]]\n",
    "    h= torch.tanh(emb.view(inx.shape[0], 6) @ W1 + b1)\n",
    "    y = h @ W2 + b2\n",
    "\n",
    "    #Calculate the loss\n",
    "    loss = torch.nn.functional.cross_entropy(y, Ytr[inx])\n",
    "    #print(loss.item())\n",
    "\n",
    "    #Back pass\n",
    "    for p in parameters:\n",
    "        p.grad = None\n",
    "    loss.backward()\n",
    "\n",
    "    #Update my parameters\n",
    "    for p in parameters:\n",
    "        p.data += -0.01 * p.grad\n",
    "\n",
    "print(loss.item())"
   ]
  },
  {
   "cell_type": "code",
   "execution_count": 29,
   "id": "0073ec43-f109-4dd0-9754-fdbcc27675dd",
   "metadata": {},
   "outputs": [
    {
     "data": {
      "text/plain": [
       "2.4081273078918457"
      ]
     },
     "execution_count": 29,
     "metadata": {},
     "output_type": "execute_result"
    }
   ],
   "source": [
    "#Evaluate on dev data\n",
    "emb = C[Xdev]\n",
    "h= torch.tanh(emb.view(Xdev.shape[0], 6) @ W1 + b1)\n",
    "y = h @ W2 + b2\n",
    "loss = torch.nn.functional.cross_entropy(y, Ydev)\n",
    "loss.item()"
   ]
  },
  {
   "cell_type": "code",
   "execution_count": null,
   "id": "ab3b6bce-56f7-4b31-9332-24dacf240a6f",
   "metadata": {},
   "outputs": [],
   "source": []
  }
 ],
 "metadata": {
  "kernelspec": {
   "display_name": "Python 3 (ipykernel)",
   "language": "python",
   "name": "python3"
  },
  "language_info": {
   "codemirror_mode": {
    "name": "ipython",
    "version": 3
   },
   "file_extension": ".py",
   "mimetype": "text/x-python",
   "name": "python",
   "nbconvert_exporter": "python",
   "pygments_lexer": "ipython3",
   "version": "3.11.6"
  }
 },
 "nbformat": 4,
 "nbformat_minor": 5
}
