{
 "cells": [
  {
   "cell_type": "code",
   "execution_count": 29,
   "id": "7ba0d424-8c05-4a2e-9645-5c5a0934f978",
   "metadata": {},
   "outputs": [],
   "source": [
    "words = open('names.txt', 'r').read().splitlines()"
   ]
  },
  {
   "cell_type": "code",
   "execution_count": 46,
   "id": "e6626ea3-1c35-49f1-9207-261a65a19ca9",
   "metadata": {},
   "outputs": [],
   "source": [
    "#Define the character set \n",
    "word = sorted(list(set(''.join(words))))\n",
    "\n",
    "#Using the word which is a sorted list, let's map each character to a number\n",
    "stoi = {s:i+1 for i,s in enumerate(word)}\n",
    "stoi['.'] = 0\n",
    "\n",
    "#Now the vice versa that is mapping a integer to the letter\n",
    "itos = {i:s for s, i in stoi.items() }\n",
    "#itos"
   ]
  },
  {
   "cell_type": "code",
   "execution_count": 47,
   "id": "68e2d828-6d44-41d4-a73e-29e7bd7da153",
   "metadata": {},
   "outputs": [],
   "source": [
    "#Dataset creation\n",
    "import torch\n",
    "block_size = 3 #This is the context length, it specifies the number of words/characters you are giving to the model\n",
    "X = []\n",
    "Y = []\n",
    "\n",
    "for w in words:\n",
    "    content = [0] * block_size\n",
    "    #print(\"for the word\", w)\n",
    "    for ch in w + '.':\n",
    "        inx = stoi[ch]\n",
    "        X.append(content)\n",
    "        Y.append(inx)\n",
    "        #print(f'X is {X}')\n",
    "        #print(f'Y is {Y}')\n",
    "        content = content[1:] + [inx]\n",
    "\n",
    "X = torch.tensor(X) #Converting arrays to tensors\n",
    "Y = torch.tensor(Y) \n",
    "\n",
    "# print(X.shape)\n",
    "# print(Y.shape)\n",
    "    "
   ]
  },
  {
   "cell_type": "code",
   "execution_count": 48,
   "id": "c5087ddc-0e92-4f6b-aa54-aa63e618bb64",
   "metadata": {},
   "outputs": [
    {
     "name": "stdout",
     "output_type": "stream",
     "text": [
      "tensor([[0.9266, 0.5524, 0.9266, 0.5524, 0.9266, 0.5524],\n",
      "        [0.9266, 0.5524, 0.9266, 0.5524, 0.3108, 0.5816],\n",
      "        [0.9266, 0.5524, 0.3108, 0.5816, 0.7910, 0.7240],\n",
      "        ...,\n",
      "        [0.2742, 0.4753, 0.2742, 0.4753, 0.9798, 0.2702],\n",
      "        [0.2742, 0.4753, 0.9798, 0.2702, 0.2742, 0.4753],\n",
      "        [0.9798, 0.2702, 0.2742, 0.4753, 0.5588, 0.4923]])\n"
     ]
    }
   ],
   "source": [
    "#C here is the look up table (also called the embeddings table)\n",
    "#Each row of C has the embeddings required for a character\n",
    "C = torch.rand((27, 2))\n",
    "#Embed each character in X from C\n",
    "emb = C[X]\n",
    "#Let's check the shape of emb\n",
    "emb.shape\n",
    "#emb is a 3d vector. Let's convert it into 2d of 27 x 6 where each row is the embedding of the 3 characters in X\n",
    "it = emb.view(emb.shape[0], 6)\n",
    "print(it)"
   ]
  },
  {
   "cell_type": "code",
   "execution_count": 49,
   "id": "1687f964-5662-4fef-8289-edfbdf77f9de",
   "metadata": {},
   "outputs": [
    {
     "data": {
      "text/plain": [
       "torch.Size([228146, 100])"
      ]
     },
     "execution_count": 49,
     "metadata": {},
     "output_type": "execute_result"
    }
   ],
   "source": [
    "#Now the number of training examples x 6 inputs are given as a weighted sum to the hidden layer with 100 neurons\n",
    "W1 = torch.randn((6, 100))\n",
    "b1 = torch.randn(100)\n",
    "\n",
    "#The weighted sums are activated by tanh\n",
    "h = torch.tanh(it @ W1 + b1)\n",
    "h.shape"
   ]
  },
  {
   "cell_type": "code",
   "execution_count": 50,
   "id": "29f35f9e-bd6a-4849-8c72-bff8d1087ea0",
   "metadata": {},
   "outputs": [],
   "source": [
    "#The parameters of the hidden layer to the output layer\n",
    "W2 = torch.randn(100, 27)\n",
    "b2 = torch.randn(27)\n",
    "\n",
    "#The output of the last layer\n",
    "y = h @ W2 + b2"
   ]
  },
  {
   "cell_type": "code",
   "execution_count": 51,
   "id": "97194cdc-e245-4327-a165-b47919b60b7f",
   "metadata": {},
   "outputs": [
    {
     "data": {
      "text/plain": [
       "tensor(16.0003)"
      ]
     },
     "execution_count": 51,
     "metadata": {},
     "output_type": "execute_result"
    }
   ],
   "source": [
    "#using the y we got from the neural network and the actual y we will calculate the loss\n",
    "loss = torch.nn.functional.cross_entropy(y, Y)\n",
    "loss"
   ]
  },
  {
   "cell_type": "code",
   "execution_count": 52,
   "id": "42429c26-332f-4627-8d42-1258bed52bad",
   "metadata": {},
   "outputs": [
    {
     "data": {
      "text/plain": [
       "tensor([ 32544, 113328, 106035, 156777,  82998, 103543,  47505, 162331,  67442,\n",
       "         46742,  96667, 197993, 147978, 113198, 208979, 167863,  84419, 111198,\n",
       "        118785, 192752,  60892, 120028, 100259, 136311, 185748, 144211,  51788,\n",
       "        195850, 184413, 159039, 140130, 227886])"
      ]
     },
     "execution_count": 52,
     "metadata": {},
     "output_type": "execute_result"
    }
   ],
   "source": [
    "#Let's try to segment the data to minibatches\n",
    "m = torch.randint(0, X.shape[0], (32,))\n",
    "m"
   ]
  },
  {
   "cell_type": "code",
   "execution_count": 63,
   "id": "e7bf40df-2ee7-4dcc-b10d-81fa55e4c2b6",
   "metadata": {},
   "outputs": [
    {
     "name": "stdout",
     "output_type": "stream",
     "text": [
      "2.684041976928711\n"
     ]
    }
   ],
   "source": [
    "#On combining the whole code, we need to do a forward pass, find the loss, do a backward pass, update the values and repeat the steps again\n",
    "#Until the loss does not minimise\n",
    "parameters = [C, W1, W2, b1, b2]\n",
    "for p in parameters:\n",
    "    p.requires_grad = True\n",
    "    \n",
    "for _ in range(100):\n",
    "\n",
    "    #Minibatch of 32\n",
    "    inx = torch.randint(0, X.shape[0], (32,))\n",
    "    \n",
    "    #forward pass\n",
    "    emb = C[X[inx]]\n",
    "    h= torch.tanh(emb.view(inx.shape[0], 6) @ W1 + b1)\n",
    "    y = h @ W2 + b2\n",
    "\n",
    "    #Calculate the loss\n",
    "    loss = torch.nn.functional.cross_entropy(y, Y[inx])\n",
    "    #print(loss.item())\n",
    "\n",
    "    #Back pass\n",
    "    for p in parameters:\n",
    "        p.grad = None\n",
    "    loss.backward()\n",
    "\n",
    "    #Update my parameters\n",
    "    for p in parameters:\n",
    "        p.data += -0.1 * p.grad\n",
    "\n",
    "print(loss.item())"
   ]
  },
  {
   "cell_type": "code",
   "execution_count": null,
   "id": "0073ec43-f109-4dd0-9754-fdbcc27675dd",
   "metadata": {},
   "outputs": [],
   "source": []
  }
 ],
 "metadata": {
  "kernelspec": {
   "display_name": "Python 3 (ipykernel)",
   "language": "python",
   "name": "python3"
  },
  "language_info": {
   "codemirror_mode": {
    "name": "ipython",
    "version": 3
   },
   "file_extension": ".py",
   "mimetype": "text/x-python",
   "name": "python",
   "nbconvert_exporter": "python",
   "pygments_lexer": "ipython3",
   "version": "3.11.6"
  }
 },
 "nbformat": 4,
 "nbformat_minor": 5
}
